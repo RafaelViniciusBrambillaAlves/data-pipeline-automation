{
 "cells": [
  {
   "cell_type": "markdown",
   "id": "bdc3a7fe-d52f-4e7b-945c-aa3027d3d943",
   "metadata": {
    "tags": []
   },
   "source": [
    "#### Importar Bibliotecas "
   ]
  },
  {
   "cell_type": "code",
   "execution_count": 8,
   "id": "ec2de13b-b189-4d74-8c4a-77048ca74f82",
   "metadata": {
    "tags": []
   },
   "outputs": [],
   "source": [
    "from pyspark.sql import SparkSession\n",
    "from datetime import datetime"
   ]
  },
  {
   "cell_type": "markdown",
   "id": "675aceb8-0a15-41c3-b6ed-d302b3ca5bcb",
   "metadata": {},
   "source": [
    "#### Criar uma Sessão Spark"
   ]
  },
  {
   "cell_type": "code",
   "execution_count": 2,
   "id": "e1832787-66be-4253-a0ab-c0ce69fdfcd0",
   "metadata": {
    "tags": []
   },
   "outputs": [],
   "source": [
    "spark = SparkSession.builder \\\n",
    "    .master(\"spark://spark-master:7077\") \\\n",
    "    .appName(\"ReadCSV_web\") \\\n",
    "    .getOrCreate()"
   ]
  },
  {
   "cell_type": "markdown",
   "id": "4d40224b-4b09-4c11-ad93-fd9a56ecd624",
   "metadata": {},
   "source": [
    "#### Definir o Caminho do Arquivo CSV"
   ]
  },
  {
   "cell_type": "code",
   "execution_count": 3,
   "id": "cfa70571-4313-4d3d-bb62-b84fb7226526",
   "metadata": {
    "tags": []
   },
   "outputs": [],
   "source": [
    "today_date = datetime.today().strftime('%Y%m%d')\n",
    "file_path = f\"/data/not-process/{today_date}/public-sales.csv\""
   ]
  },
  {
   "cell_type": "markdown",
   "id": "58dc202f-77e3-4763-a76f-c14c36944245",
   "metadata": {},
   "source": [
    "#### Ler o Arquivo CSV"
   ]
  },
  {
   "cell_type": "code",
   "execution_count": 4,
   "id": "3f0e089a-d823-4242-9a3e-d0ed4dbb9e21",
   "metadata": {
    "tags": []
   },
   "outputs": [],
   "source": [
    "df = spark.read.csv(file_path, header=True, inferSchema=True)"
   ]
  },
  {
   "cell_type": "code",
   "execution_count": 5,
   "id": "dbf48688-2ae3-47a0-a13c-605a5b805ff6",
   "metadata": {
    "tags": []
   },
   "outputs": [
    {
     "name": "stdout",
     "output_type": "stream",
     "text": [
      "+----------+--------------------+--------------------+----------------+------------+-------------------+------+------------+--------------------+--------------------+--------------------+--------------------+--------------------+--------------------+--------------------+--------------------+\n",
      "|product_id|        product_name|            category|discounted_price|actual_price|discount_percentage|rating|rating_count|       about_product|             user_id|           user_name|           review_id|        review_title|      review_content|            img_link|        product_link|\n",
      "+----------+--------------------+--------------------+----------------+------------+-------------------+------+------------+--------------------+--------------------+--------------------+--------------------+--------------------+--------------------+--------------------+--------------------+\n",
      "|B07JW9H4J1|Wayona Nylon Brai...|Computers&Accesso...|          â¹399|    â¹1,099|                64%|   4.2|      24,269|High Compatibilit...|AG3D6O4STAQKAY2UV...|Manav,Adarsh gupt...|R3HXWT0LRP0NMF,R2...|Satisfied,Chargin...|Looks durable Cha...|https://m.media-a...|https://www.amazo...|\n",
      "|B098NS6PVG|Ambrane Unbreakab...|Computers&Accesso...|          â¹199|      â¹349|                43%|   4.0|      43,994|Compatible with a...|AECPFYFQVRUWC3KGN...|ArdKn,Nirbhay kum...|RGIQEG07R9HS2,R1S...|A Good Braided Ca...|I ordered this ca...|https://m.media-a...|https://www.amazo...|\n",
      "|B096MSW6CT|Sounce Fast Phone...|Computers&Accesso...|          â¹199|    â¹1,899|                90%|   3.9|       7,928|ã Fast Charger&...|AGU3BBQ2V2DDAMOAK...|Kunal,Himanshu,vi...|R3J3EQQ9TZI5ZJ,R3...|Good speed for ea...|Not quite durable...|https://m.media-a...|https://www.amazo...|\n",
      "|B08HDJ86NZ|boAt Deuce USB 30...|Computers&Accesso...|          â¹329|      â¹699|                53%|   4.2|      94,363|The boAt Deuce US...|AEWAZDZZJLQUYVOVG...|Omkar dhale,JD,HE...|R3EEUZKKK9J36I,R3...|Good product,Good...|Good product,long...|https://m.media-a...|https://www.amazo...|\n",
      "|B08CF3B7N1|Portronics Konnec...|Computers&Accesso...|          â¹154|      â¹399|                61%|   4.2|      16,905|[CHARGE & SYNC FU...|AE3Q6KSUK5P75D5HF...|rahuls6099,Swasat...|R1BP4L2HH9TFUP,R1...|As good as origin...|Bought this inste...|https://m.media-a...|https://www.amazo...|\n",
      "+----------+--------------------+--------------------+----------------+------------+-------------------+------+------------+--------------------+--------------------+--------------------+--------------------+--------------------+--------------------+--------------------+--------------------+\n",
      "only showing top 5 rows\n",
      "\n"
     ]
    }
   ],
   "source": [
    "df.show(5)"
   ]
  },
  {
   "cell_type": "markdown",
   "id": "5ee39f31-88d7-484e-85c9-83d991fc3950",
   "metadata": {},
   "source": [
    "#### Descrever os Dados"
   ]
  },
  {
   "cell_type": "code",
   "execution_count": 6,
   "id": "070caf02-3bea-4334-bc38-ebd421f2190c",
   "metadata": {},
   "outputs": [
    {
     "name": "stdout",
     "output_type": "stream",
     "text": [
      "+-------+----------+--------------------+--------------------+-----------------+-------------------+-------------------+--------------------+--------------------+--------------------+-----------------+--------------------+--------------------+--------------------+--------------------+--------------------+--------------------+\n",
      "|summary|product_id|        product_name|            category| discounted_price|       actual_price|discount_percentage|              rating|        rating_count|       about_product|          user_id|           user_name|           review_id|        review_title|      review_content|            img_link|        product_link|\n",
      "+-------+----------+--------------------+--------------------+-----------------+-------------------+-------------------+--------------------+--------------------+--------------------+-----------------+--------------------+--------------------+--------------------+--------------------+--------------------+--------------------+\n",
      "|  count|      2930|                2930|                2930|             2930|               2930|               2930|                2930|                2930|                2930|             2930|                2930|                2930|                2930|                2930|                2930|                2930|\n",
      "|   mean|      null|                null|                null|             null|               null|               null|   4.097299218194749|                 NaN|               67.88|5.564705882352942|   4.111111111111111|  59.446666666666665|   63.53333333333333|               216.0|                 2.5|                null|\n",
      "| stddev|      null|                null|                null|             null|               null|               null|  0.2932948236124654|                 NaN|   134.4600791643709|5.440470253345763| 0.19063018984684937|  193.39863019401028|  122.95834100697847|   336.6343218786027|                 0.0|                null|\n",
      "|    min|B002PD61Y4|!!1000 Watt/2000-...|     123 Sports Mode| 100 Sports Modes| 100 + Sports Modes|   150+ Watch Faces| 100 Sports Mode ...| 100 Watch Faces-...| Heart Rate Monit...|  2 Analog sticks|      1-step pairing| 1.7 meter USB ca...| (B) Covers Full ...| (3rd Gen); iPad ...|  I would say tha...|  1 Magnetic Charger|\n",
      "|    max|B0BR4F878Q|tizum HDMI to VGA...|Toys&Games|Arts&C...|           â¹999|             â¹999|           â¹6,490|               â¹90|            â¹9,999|ð¥ãKindly NOT...|           â¹999|ð¤ð»ð¤ð»,...|            â¹3,999|ð¥,Considering ...|ð¸Everything is...|https://m.media-a...|ðððð,...|\n",
      "+-------+----------+--------------------+--------------------+-----------------+-------------------+-------------------+--------------------+--------------------+--------------------+-----------------+--------------------+--------------------+--------------------+--------------------+--------------------+--------------------+\n",
      "\n"
     ]
    }
   ],
   "source": [
    "df.describe().show()"
   ]
  },
  {
   "cell_type": "markdown",
   "id": "066d712e-8313-4bba-8a90-2e4c23661fbb",
   "metadata": {},
   "source": [
    "#### Exibir o Esquema dos Dados"
   ]
  },
  {
   "cell_type": "code",
   "execution_count": 9,
   "id": "225ef051-e4ff-4132-bb91-08b2b69aaf81",
   "metadata": {
    "tags": []
   },
   "outputs": [
    {
     "name": "stdout",
     "output_type": "stream",
     "text": [
      "root\n",
      " |-- product_id: string (nullable = true)\n",
      " |-- product_name: string (nullable = true)\n",
      " |-- category: string (nullable = true)\n",
      " |-- discounted_price: string (nullable = true)\n",
      " |-- actual_price: string (nullable = true)\n",
      " |-- discount_percentage: string (nullable = true)\n",
      " |-- rating: string (nullable = true)\n",
      " |-- rating_count: string (nullable = true)\n",
      " |-- about_product: string (nullable = true)\n",
      " |-- user_id: string (nullable = true)\n",
      " |-- user_name: string (nullable = true)\n",
      " |-- review_id: string (nullable = true)\n",
      " |-- review_title: string (nullable = true)\n",
      " |-- review_content: string (nullable = true)\n",
      " |-- img_link: string (nullable = true)\n",
      " |-- product_link: string (nullable = true)\n",
      "\n"
     ]
    }
   ],
   "source": [
    "df.printSchema()"
   ]
  },
  {
   "cell_type": "markdown",
   "id": "03697451-e41f-4c6f-9c6b-c301d765a557",
   "metadata": {},
   "source": [
    "#### Processar os Dados"
   ]
  },
  {
   "cell_type": "markdown",
   "id": "0cc1c26a-457e-4e48-b57b-45566ad0d5c7",
   "metadata": {},
   "source": [
    "Remover Duplicatas"
   ]
  },
  {
   "cell_type": "code",
   "execution_count": null,
   "id": "f658c93b-1762-4c48-8641-db3637b1b731",
   "metadata": {},
   "outputs": [],
   "source": [
    "df_copy = df.select('*').dropDuplicates()"
   ]
  },
  {
   "cell_type": "markdown",
   "id": "f4c5cb11-bfc9-4749-a7db-4804586bef6e",
   "metadata": {},
   "source": [
    "Limpar e Converter Colunas"
   ]
  },
  {
   "cell_type": "markdown",
   "id": "65e6f836-8a34-4745-b03e-c520fc50ceff",
   "metadata": {
    "tags": []
   },
   "source": [
    "df_copy = df_copy.withColumn(\"discounted_price\",\n",
    "    regexp_replace(\n",
    "        regexp_replace(col(\"discounted_price\"), \"â¹\", \"\"),\n",
    "        \",\", \"\"\n",
    "    ).cast(\"float\")\n",
    ")"
   ]
  },
  {
   "cell_type": "code",
   "execution_count": null,
   "id": "a43a4d24-cb87-42fc-9fa5-fab1ed314c56",
   "metadata": {
    "tags": []
   },
   "outputs": [],
   "source": [
    "df_copy = df_copy.withColumn(\"actual_price\",\n",
    "    regexp_replace(\n",
    "        regexp_replace(col(\"actual_price\"), \"â¹\", ''),\n",
    "        \",\", \"\"\n",
    "    ).cast(\"float\")\n",
    ")"
   ]
  },
  {
   "cell_type": "code",
   "execution_count": null,
   "id": "5d105271-010a-4a19-b033-c5488ed06449",
   "metadata": {},
   "outputs": [],
   "source": [
    "df_copy = df_copy.withColumn(\"discount_percentage\",\n",
    "    regexp_replace(\n",
    "        col(\"discount_percentage\"), '%', ''\n",
    "    ).cast(\"float\")\n",
    ")"
   ]
  },
  {
   "cell_type": "markdown",
   "id": "5d3f7024-db93-419e-9b92-2c292fcf0158",
   "metadata": {},
   "source": [
    "Ajustar a Coluna de Avaliação"
   ]
  },
  {
   "cell_type": "code",
   "execution_count": null,
   "id": "ea70c574-c8db-4b20-ae4d-1c35b7483ea6",
   "metadata": {},
   "outputs": [],
   "source": [
    "unique_ratings = df_copy.select(col(\"rating\")).distinct()\n",
    "unique_ratings_list = [row['rating'] for row in unique_ratings.collect()]"
   ]
  },
  {
   "cell_type": "code",
   "execution_count": null,
   "id": "0f1bcedb-032d-4bec-a036-c0e8785bb8e6",
   "metadata": {},
   "outputs": [],
   "source": [
    "df_copy = df_copy.withColumn(\"rating\", col(\"rating\").cast(\"float\"))\n",
    "df_copy = df_copy.withColumn(\"rating\", round(col(\"rating\"), 2))\n",
    "df_copy = df_copy.withColumn(\"rating\", when(col(\"product_id\") == \"B08L12N5H1\", 3.9).otherwise(col(\"rating\")))"
   ]
  },
  {
   "cell_type": "markdown",
   "id": "5d1d0a04-46e6-413b-8288-348210e10c1f",
   "metadata": {},
   "source": [
    "Limpar a Coluna de Contagem de Avaliações"
   ]
  },
  {
   "cell_type": "code",
   "execution_count": null,
   "id": "0a1d9295-cf5e-46db-b06b-4cb20171a991",
   "metadata": {},
   "outputs": [],
   "source": [
    "df_copy = df_copy.withColumn(\"rating_count\",\n",
    "    regexp_replace(\n",
    "        col(\"rating_count\"), ',', ''\n",
    "    ).cast(\"float\")\n",
    ")"
   ]
  },
  {
   "cell_type": "markdown",
   "id": "cbcd5f5b-d496-4f82-ae4d-4693caf6e906",
   "metadata": {},
   "source": [
    "#### Exibir o DataFrame Final"
   ]
  },
  {
   "cell_type": "code",
   "execution_count": null,
   "id": "8405f885-9655-4e57-9db6-636025f9f8d2",
   "metadata": {},
   "outputs": [],
   "source": [
    "df_copy.show(5)"
   ]
  },
  {
   "cell_type": "markdown",
   "id": "9ecd268d-1c90-4d21-8ba2-9b43c9203070",
   "metadata": {},
   "source": [
    "#### Descrever o DataFrame Processado"
   ]
  },
  {
   "cell_type": "code",
   "execution_count": null,
   "id": "fc845948-1f55-47b4-9de5-1e3a8e1c01d7",
   "metadata": {},
   "outputs": [],
   "source": [
    "df_copy.describe().show()"
   ]
  },
  {
   "cell_type": "markdown",
   "id": "3c8da62b",
   "metadata": {},
   "source": [
    "#### Fechar a Sessão Spark"
   ]
  },
  {
   "cell_type": "code",
   "execution_count": null,
   "id": "69fa25ef",
   "metadata": {},
   "outputs": [],
   "source": [
    "spark.stop()"
   ]
  }
 ],
 "metadata": {
  "kernelspec": {
   "display_name": "Python 3 (ipykernel)",
   "language": "python",
   "name": "python3"
  },
  "language_info": {
   "codemirror_mode": {
    "name": "ipython",
    "version": 3
   },
   "file_extension": ".py",
   "mimetype": "text/x-python",
   "name": "python",
   "nbconvert_exporter": "python",
   "pygments_lexer": "ipython3",
   "version": "3.9.13"
  }
 },
 "nbformat": 4,
 "nbformat_minor": 5
}
